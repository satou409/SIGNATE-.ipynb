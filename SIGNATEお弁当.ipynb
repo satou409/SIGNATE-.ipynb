{
  "nbformat": 4,
  "nbformat_minor": 0,
  "metadata": {
    "colab": {
      "provenance": [],
      "include_colab_link": true
    },
    "kernelspec": {
      "name": "python3",
      "display_name": "Python 3"
    },
    "language_info": {
      "name": "python"
    }
  },
  "cells": [
    {
      "cell_type": "markdown",
      "metadata": {
        "id": "view-in-github",
        "colab_type": "text"
      },
      "source": [
        "<a href=\"https://colab.research.google.com/github/satou409/SIGNATE-.ipynb/blob/main/SIGNATE%E3%81%8A%E5%BC%81%E5%BD%93.ipynb\" target=\"_parent\"><img src=\"https://colab.research.google.com/assets/colab-badge.svg\" alt=\"Open In Colab\"/></a>"
      ]
    },
    {
      "cell_type": "code",
      "source": [
        "from google.colab import drive\n",
        "drive.mount('/content/drive')\n",
        "\n",
        "# ---------- 0) 読み込み ----------\n",
        "import pandas as pd\n",
        "# ファイル読み込み\n",
        "train = pd.read_csv('/content/drive/MyDrive/SIGNATE/お弁当/train.csv')\n",
        "test = pd.read_csv('/content/drive/MyDrive/SIGNATE/お弁当/test.csv')\n",
        "sample = pd.read_csv('/content/drive/MyDrive/SIGNATE/お弁当/sample.csv',header=None)\n"
      ],
      "metadata": {
        "colab": {
          "base_uri": "https://localhost:8080/"
        },
        "id": "f1xEgFGpbPui",
        "outputId": "2a5c233c-2385-4c6d-f304-c902725f25ae"
      },
      "execution_count": 1,
      "outputs": [
        {
          "output_type": "stream",
          "name": "stdout",
          "text": [
            "Drive already mounted at /content/drive; to attempt to forcibly remount, call drive.mount(\"/content/drive\", force_remount=True).\n"
          ]
        }
      ]
    },
    {
      "cell_type": "code",
      "source": [
        "# =============================\n",
        "# SIGNATE「お弁当」 二段階残差モデル（統合版）\n",
        "# - 天気4分類（快晴/晴れ/曇り系/悪天候）\n",
        "# - 指数減衰トレンド（前半10日除外でfit）\n",
        "# - 人気スコア：残差の平均（連続値）＋薄いtop/botフラグ\n",
        "# - menu_category / meat_category / 交互作用 menu_meat\n",
        "# =============================\n",
        "\n",
        "# === 0) 準備 ===\n",
        "from google.colab import drive\n",
        "drive.mount('/content/drive')\n",
        "\n",
        "import numpy as np\n",
        "import pandas as pd\n",
        "import matplotlib.pyplot as plt\n",
        "\n",
        "from sklearn.model_selection import TimeSeriesSplit\n",
        "from sklearn.metrics import mean_squared_error as mse\n",
        "from sklearn.ensemble import RandomForestRegressor\n",
        "from sklearn.linear_model import Ridge\n",
        "from scipy.optimize import curve_fit\n",
        "\n",
        "RANDOM_SEED = 42\n",
        "N_SPLITS    = 5"
      ],
      "metadata": {
        "id": "SAWKzLJv2iMk",
        "colab": {
          "base_uri": "https://localhost:8080/"
        },
        "outputId": "95352c43-e215-4f97-b9d7-150d77fdd1bc"
      },
      "execution_count": 2,
      "outputs": [
        {
          "output_type": "stream",
          "name": "stdout",
          "text": [
            "Drive already mounted at /content/drive; to attempt to forcibly remount, call drive.mount(\"/content/drive\", force_remount=True).\n"
          ]
        }
      ]
    },
    {
      "cell_type": "code",
      "source": [
        "# === 1) 読み込み・基本前処理 ===\n",
        "for df in (train, test):\n",
        "    df[\"datetime\"] = pd.to_datetime(df[\"datetime\"])\n",
        "    df[\"payday\"]   = df[\"payday\"].fillna(0)\n",
        "    df[\"event\"]    = df[\"event\"].fillna(\"なし\")\n",
        "    df[\"remarks\"]  = df[\"remarks\"].fillna(\"なし\")\n",
        "    df[\"kcal\"]     = df[\"kcal\"].fillna(train[\"kcal\"].mean()).astype(int) # kcal の欠損を平均値で埋めた後に整数に変換\n",
        "\n",
        "train = train.sort_values(\"datetime\").reset_index(drop=True)\n",
        "test  = test.sort_values(\"datetime\").reset_index(drop=True)\n",
        "\n",
        "# === 2) 天気4分類 ===\n",
        "def bin_weather(s):\n",
        "    if pd.isna(s): return \"不明\"\n",
        "    s = str(s)\n",
        "    if s == \"快晴\": return \"快晴\"\n",
        "    if s == \"晴れ\": return \"晴れ\"\n",
        "    if s in [\"曇\", \"薄曇\", \"薄雲\"]: return \"曇り系\"\n",
        "    if s in [\"雨\", \"雪\", \"雷電\"]:  return \"悪天候\"\n",
        "    return \"その他\"\n",
        "\n",
        "for df in (train, test):\n",
        "    df[\"weather_bin\"] = df[\"weather\"].apply(bin_weather)"
      ],
      "metadata": {
        "id": "gkzQTBHc76mw"
      },
      "execution_count": 3,
      "outputs": []
    },
    {
      "cell_type": "code",
      "source": [
        "# === 3) 指数減衰トレンド（前半10日除外でfit） ===\n",
        "t0 = train[\"datetime\"].min()\n",
        "train[\"t\"] = (train[\"datetime\"] - t0).dt.days.astype(int)\n",
        "\n",
        "mask = train[\"t\"] > 10\n",
        "t = train.loc[mask, \"t\"].astype(float).values\n",
        "y = train.loc[mask, \"y\"].astype(float).values\n",
        "\n",
        "def exp_decay(t, a, b, c):\n",
        "    # y = a * exp(-b t) + c\n",
        "    return a * np.exp(-b * t) + c\n",
        "\n",
        "c0 = np.median(train[\"y\"].tail(30))\n",
        "a0 = max(y) - c0 if (max(y) - c0) > 1 else (y.mean() + 1)\n",
        "b0 = 0.01\n",
        "bounds = ([0.0, 1e-6, 0.0], [np.inf, 1.0, np.inf])\n",
        "\n",
        "popt, _ = curve_fit(exp_decay, t, y, p0=(a0, b0, c0), bounds=bounds, maxfev=10000)\n",
        "a, b, c = popt\n",
        "print(f\"[Trend] a={a:.2f}, b={b:.4f}, c={c:.2f}\")\n",
        "\n",
        "train[\"trend_decay\"]    = exp_decay(train[\"t\"].values, a, b, c)\n",
        "train[\"residual_decay\"] = train[\"y\"] - train[\"trend_decay\"]\n",
        "\n",
        "# test側のトレンド付与\n",
        "test[\"t\"] = (test[\"datetime\"] - t0).dt.days.astype(int)\n",
        "test[\"trend_decay\"] = exp_decay(test[\"t\"].values, a, b, c)\n"
      ],
      "metadata": {
        "colab": {
          "base_uri": "https://localhost:8080/"
        },
        "id": "TQgFfwXg3y7U",
        "outputId": "196bc225-e650-4248-cb40-5466d485af3f"
      },
      "execution_count": 4,
      "outputs": [
        {
          "output_type": "stream",
          "name": "stdout",
          "text": [
            "[Trend] a=117.02, b=0.0069, c=40.76\n"
          ]
        }
      ]
    },
    {
      "cell_type": "code",
      "source": [
        "# === 4) 人気スコア（連続値）＋薄いフラグ ===\n",
        "TOP_N, BOT_N = 5, 5        # popular/unpopular を弱く入れる\n",
        "\n",
        "menu_scores = train.groupby(\"name\")[\"residual_decay\"].mean()\n",
        "top_names = set(menu_scores.sort_values(ascending=False).head(TOP_N).index)\n",
        "bot_names = set(menu_scores.sort_values(ascending=True).head(BOT_N).index)\n",
        "\n",
        "for df in (train, test):\n",
        "    df[\"menu_score\"] = df[\"name\"].map(menu_scores).fillna(0.0)\n",
        "    df[\"popular_flag\"]   = df[\"name\"].isin(top_names).astype(int)\n",
        "    df[\"unpopular_flag\"] = df[\"name\"].isin(bot_names).astype(int)\n"
      ],
      "metadata": {
        "id": "LHebAHlV76ga"
      },
      "execution_count": 5,
      "outputs": []
    },
    {
      "cell_type": "code",
      "source": [
        "# === 5) メニューカテゴリ（定義） ===\n",
        "def meat_category(name):\n",
        "    if any(x in name for x in [\"牛\", \"ビーフ\" ,\"プルコギ\"]):\n",
        "        return \"beef\"\n",
        "    if any(x in name for x in [\"豚\", \"ポーク\", \"カツ\" ,\"サムジョン\" ,\"ロース\" , \"かつ\"]):\n",
        "        return \"pork\"\n",
        "    if any(x in name for x in [\"鳥\", \"チキン\", \"鶏\" ]):\n",
        "        return \"chicken\"\n",
        "    if any(x in name for x in [\"肉\", \"麻婆\", \"ハンバーグ\", \"ロコモコ\", \"メンチ\", \"マーボ\" ]):\n",
        "        return \"meat\"\n",
        "    return \"other\"\n",
        "\n",
        "def menu_category(name):\n",
        "    if any(x in name for x in [\"カレー\", \"かれー\"]):\n",
        "        return \"curry\"\n",
        "    if any(x in name for x in [\"かつ\", \"ヒレカツ\", \"ロースカツ\", \"野菜あん\", \"味噌\", \"すき焼\", \"生姜\", \"南部焼き\", \"山賊\", \"丼\",\n",
        "                               \"ピリ辛焼\", \"照り\", \"ご飯\", \"御飯\", \"肉じゃが\", \"唐揚\", \"から揚\", \"さんま\", \"和風\", \"親子\", \"ゴーヤ\", \"しゃぶ\", \"甘辛煮\",\n",
        "                               \"天ぷら\", \"てんぷら\", \"南蛮\", \"シャブ\", \"味噌カツ\", \"筑前煮\" ,\"うどん\", \"そば\", \"コロッケ\" ,\"筍\", \"スタミナ炒め\",\n",
        "                               \"スキヤキ\", \"塩焼き\", \"治部煮\" ,\"梅肉\", \"柳川\", \"はさみ揚\"]):\n",
        "        return \"japanese\"\n",
        "    if any(x in name for x in [\"フライ\", \"マスタード\", \"シチュー\", \"カツ\", \"ロコモコ\", \"ハンバーグ\", \"ステーキ\", \"フリカッセ\", \"ムニエル\", \"タンドリー\",\n",
        "                               \"クリーム\", \"チリソース\" ,\"ハヤシ\" ,\"クリーミー\", \"クリーミ―\", \"ビーフ\", \"チキン\", \"ポーク\", \"ピザ\", \"レモンペッパー\", \"ビュッフェ\",\n",
        "                               \"ミックス\"]):\n",
        "        return \"western\"\n",
        "    if any(x in name for x in [\"回鍋肉\", \"チャプチェ\", \"カッシュナッツ\", \"カシューナッツ\", \"ニンニクの芽\", \"キムチ\", \"マーボ\", \"麻婆\", \"青椒肉絲\" , \"チンジャオ\", \"サムジョン\",\n",
        "                               \"酢豚\", \"青梗菜牛肉炒め\", \"八宝菜\", \"プルコギ\", \"韓国\", \"中華\", \"焼き肉\", \"炒め\" ,\"黒酢\"]):\n",
        "        return \"chinese\"\n",
        "    return \"other\""
      ],
      "metadata": {
        "id": "t2TaDdpN88NE"
      },
      "execution_count": 6,
      "outputs": []
    },
    {
      "cell_type": "code",
      "metadata": {
        "collapsed": true,
        "id": "b2c8744c"
      },
      "source": [
        "# === 5) メニューカテゴリ（適用） ===\n",
        "for df in (train, test):\n",
        "    df[\"menu_category\"] = df[\"name\"].apply(menu_category)\n",
        "    df[\"meat_category\"] = df[\"name\"].apply(meat_category)\n",
        "\n",
        "menu_vocab = sorted(set(train[\"menu_category\"]) | set(test[\"menu_category\"]))\n",
        "meat_vocab = sorted(set(train[\"meat_category\"]) | set(test[\"meat_category\"]))\n",
        "for df in (train, test):\n",
        "    df[\"menu_category\"] = pd.Categorical(df[\"menu_category\"], categories=menu_vocab)\n",
        "    df[\"meat_category\"] = pd.Categorical(df[\"meat_category\"], categories=meat_vocab)\n",
        "    df[\"menu_meat\"] = df[\"menu_category\"].astype(str) + \"_\" + df[\"meat_category\"].astype(str)"
      ],
      "execution_count": 7,
      "outputs": []
    },
    {
      "cell_type": "code",
      "source": [
        "# === 6) 残差を目的変数にして学習（時系列CV） ===\n",
        "y_trend    = train[\"trend_decay\"].values\n",
        "y_residual = (train[\"y\"] - train[\"trend_decay\"]).values\n",
        "\n",
        "cat_cols = [\"weather_bin\",\"menu_category\",\"meat_category\",\"menu_meat\"]\n",
        "num_cols = [\"payday\",\"kcal\",\"menu_score\",\"popular_flag\",\"unpopular_flag\"]\n",
        "use_cols = cat_cols + num_cols\n",
        "\n",
        "X_all = pd.get_dummies(pd.concat([train[use_cols], test[use_cols]], axis=0),\n",
        "                       columns=cat_cols, dummy_na=False)\n",
        "X_tr  = X_all.iloc[:len(train)].reset_index(drop=True)\n",
        "X_te  = X_all.iloc[len(train):].reset_index(drop=True)\n",
        "\n",
        "tscv = TimeSeriesSplit(n_splits=N_SPLITS)\n",
        "oof_resid = np.zeros(len(train))\n",
        "\n",
        "for fold, (tr_idx, va_idx) in enumerate(tscv.split(X_tr)):\n",
        "    X_trn, X_val = X_tr.iloc[tr_idx], X_tr.iloc[va_idx]\n",
        "    y_trn, y_val = y_residual[tr_idx], y_residual[va_idx]\n",
        "\n",
        "    # 木 or Ridge を選んでOK（木が効きやすい）\n",
        "    model = RandomForestRegressor(\n",
        "        n_estimators=400, max_depth=6, min_samples_leaf=4,\n",
        "        random_state=RANDOM_SEED, n_jobs=-1\n",
        "    )\n",
        "    # model = Ridge(alpha=1.0)\n",
        "\n",
        "    model.fit(X_trn, y_trn)\n",
        "    oof_resid[va_idx] = model.predict(X_val)\n",
        "    rmse_fold = mse(train[\"y\"].values[va_idx], y_trend[va_idx] + oof_resid[va_idx])**0.5\n",
        "    print(f\"[Fold {fold}] RMSE = {rmse_fold:.3f}\")\n",
        "\n",
        "rmse_cv = mse(train[\"y\"].values, y_trend + oof_resid)**0.5\n",
        "print(f\"[CV AVG] RMSE = {rmse_cv:.3f}\")"
      ],
      "metadata": {
        "colab": {
          "base_uri": "https://localhost:8080/"
        },
        "id": "MQG8w7AWmQSA",
        "outputId": "b6624b6d-6113-43c6-b93b-7a793d256508"
      },
      "execution_count": 8,
      "outputs": [
        {
          "output_type": "stream",
          "name": "stdout",
          "text": [
            "[Fold 0] RMSE = 9.177\n",
            "[Fold 1] RMSE = 11.769\n",
            "[Fold 2] RMSE = 12.802\n",
            "[Fold 3] RMSE = 6.690\n",
            "[Fold 4] RMSE = 7.842\n",
            "[CV AVG] RMSE = 13.839\n"
          ]
        }
      ]
    },
    {
      "cell_type": "code",
      "source": [
        "'''\n",
        "# === 7) 全学習 → test予測 & 提出 ===\n",
        "final_model = RandomForestRegressor(\n",
        "    n_estimators=600, max_depth=6, min_samples_leaf=3,\n",
        "    random_state=RANDOM_SEED, n_jobs=-1\n",
        ")\n",
        "final_model.fit(X_tr, y_residual)\n",
        "\n",
        "pred_resid_tr = final_model.predict(X_tr)\n",
        "pred_resid_te = final_model.predict(X_te)\n",
        "\n",
        "pred_train = y_trend + pred_resid_tr\n",
        "pred_test  = test[\"trend_decay\"].values + pred_resid_te\n",
        "\n",
        "print(\"Train RMSE (re-fit):\", mse(train[\"y\"].values, pred_train)**0.5)\n",
        "\n",
        "# クリップ＆整数化（必要なら外してOK）\n",
        "pred_test = np.clip(pred_test, 0, None)\n",
        "pred_test_rounded = np.rint(pred_test).astype(int)\n",
        "\n",
        "# sample.csvが1列想定（SIGNATE）\n",
        "submission = sample.copy()\n",
        "submission.iloc[:, 0] = pred_test_rounded\n",
        "\n",
        "out_path = \"/content/submission_residual_two_stage.csv\"\n",
        "submission.to_csv(out_path, index=False, header=False)\n",
        "print(\"Saved:\", out_path)\n",
        "'''"
      ],
      "metadata": {
        "id": "sSCrjnrnombN"
      },
      "execution_count": 8,
      "outputs": []
    }
  ]
}